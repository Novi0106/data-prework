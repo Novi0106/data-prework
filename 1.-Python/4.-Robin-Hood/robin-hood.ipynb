{
 "cells": [
  {
   "cell_type": "markdown",
   "metadata": {},
   "source": [
    "<img src=\"https://bit.ly/2VnXWr2\" width=\"100\" align=\"left\"/>"
   ]
  },
  {
   "cell_type": "markdown",
   "metadata": {},
   "source": [
    "# Robin Hood\n",
    "Robin Hood has entered a competition to win the archery contest in Sherwood. With his bow and arrows, he needs to shoot on a target and try to hit as close as possible to the center.\n",
    "\n",
    "![](images/arrows.jpg)\n",
    "\n",
    "## Context\n",
    "In this challenge, the landing position of arrows shot by archers in the competition will be represented using 2-dimensional coordinates. \n",
    "\n",
    "In the 2-dimensional space, a point can be defined by a pair of values that correspond to the horizontal coordinate (x) and the vertical coordinate (y). For example, in our case, an arrow that hits the center of the archery target will land in position (0, 0) on the coordinate axes. \n",
    "\n",
    "The space can be divided into 4 zones (quadrants): Q1, Q2, Q3, Q4. If a point is in Q1, both its x coordinate and y coordinate are positive. Any point with a null x or y coordinate is considered to not belong to any quadrant. \n",
    "\n",
    "If you want to know more about the cartesian coordinate system, you can check this [link](https://en.wikipedia.org/wiki/Cartesian_coordinate_system). \n",
    "\n",
    "## Tools\n",
    "You don't necessarily need to use all the tools. Maybe you opt to use some of them or completely different ones, they are given to help you shape the exercise. Programming exercises can be solved in many different ways.\n",
    "* Data structures: **lists, sets, tuples**\n",
    "* Conditional statements: **if-elif-else**\n",
    "* Loop: **while/for**\n",
    "* Minimum (optional sorting)\n",
    "\n",
    "## Tasks\n",
    "Robin Hood has hit the following points:"
   ]
  },
  {
   "cell_type": "code",
   "execution_count": 27,
   "metadata": {},
   "outputs": [],
   "source": [
    "points = [(4, 5), (-0, 2), (4, 7), (1, -3), (3, -2), (4, 5), (3, 2), (5, 7), (-5, 7), (2, 2), (-4, 5), (0, -2),\n",
    "          (-4, 7), (-1, 3), (-3, 2), (-4, -5), (-3, 2), (5, 7), (5, 7), (2, 2), (9, 9), (-8, -9)]"
   ]
  },
  {
   "cell_type": "markdown",
   "metadata": {},
   "source": [
    "#### 1. Robin Hood is famous for hitting an arrow with another arrow. Find the coordinates of the points where an arrow hits another arrow."
   ]
  },
  {
   "cell_type": "code",
   "execution_count": 61,
   "metadata": {},
   "outputs": [
    {
     "name": "stdout",
     "output_type": "stream",
     "text": [
      "Robin hits an arrow for another arrow for the following coordinates [(4, 5), (-3, 2), (5, 7), (2, 2)] . He even lands a third arrow in the coordinates [(5, 7)] .\n"
     ]
    }
   ],
   "source": [
    "single_hit = []\n",
    "double_hit = []\n",
    "triple_hit = []\n",
    "arrow = 0\n",
    "\n",
    "for shot in points:\n",
    "    if points[arrow] not in single_hit:\n",
    "        single_hit.append(points[arrow])\n",
    "        arrow += 1\n",
    "    elif points[arrow] not in double_hit and points[arrow] in single_hit:\n",
    "        double_hit.append(points[arrow])\n",
    "        arrow += 1\n",
    "    else:\n",
    "        triple_hit.append(points[arrow])\n",
    "        arrow += 1\n",
    "    \n",
    "print(\"Robin hits an arrow for another arrow for the following coordinates\", double_hit, \n",
    "      \". He even lands a third arrow in the coordinates\", triple_hit, \".\")"
   ]
  },
  {
   "cell_type": "markdown",
   "metadata": {},
   "source": [
    "#### 2. Calculate how many arrows have fallen in each quadrant. \n",
    "**Note**: the arrows that fall in the axis (x=0 or y=0) don't belong to any quadrant."
   ]
  },
  {
   "cell_type": "code",
   "execution_count": 62,
   "metadata": {},
   "outputs": [
    {
     "name": "stdout",
     "output_type": "stream",
     "text": [
      "There are 10 arrows in quandrant 1,  2 arrows in quadrant 2,  6 arrows in quadrant 3, and 2 arrows in quadrant 4.\n"
     ]
    }
   ],
   "source": [
    "q1 = 0\n",
    "q2 = 0\n",
    "q3 = 0\n",
    "q4 = 0\n",
    "arrow = 0\n",
    "shot = 0\n",
    "x = 0\n",
    "y = 1\n",
    "\n",
    "\n",
    "for shot in points:\n",
    "    if points[arrow][x] > 0 and points[arrow][y] > 0:\n",
    "        q1 += 1\n",
    "        arrow += 1\n",
    "    elif points[arrow][x] > 0 and points[arrow][y] < 0:\n",
    "        q2 += 1\n",
    "        arrow += 1\n",
    "    elif points[arrow][x] < 0 and points[arrow][y] > 0:\n",
    "        q3 += 1\n",
    "        arrow += 1\n",
    "    elif points[arrow][x] < 0 and points[arrow][y] < 0:\n",
    "        q4 += 1\n",
    "        arrow += 1\n",
    "    else:\n",
    "        arrow += 1\n",
    "        \n",
    "print(\"There are\",q1,\"arrows in quandrant 1, \",q2,\"arrows in quadrant 2, \",q3,\n",
    "          \"arrows in quadrant 3, and\",q4,\"arrows in quadrant 4.\")"
   ]
  },
  {
   "cell_type": "markdown",
   "metadata": {},
   "source": [
    "#### 3. Find the point closest to the center. Calculate its distance to the center. \n",
    "Take into account that there might be more than one point at the minimum distance to the center.\n",
    "\n",
    "**Hint**: Use the Euclidean distance. You can find more information about it [here](https://en.wikipedia.org/wiki/Euclidean_distance).  \n",
    "**Hint**: Defining a function that calculates the distance to the center can help."
   ]
  },
  {
   "cell_type": "code",
   "execution_count": 103,
   "metadata": {},
   "outputs": [
    {
     "name": "stdout",
     "output_type": "stream",
     "text": [
      "The coordinates closest to the center are [(0, 2), (0, -2)]\n"
     ]
    }
   ],
   "source": [
    "shot = 0\n",
    "arrow = 0\n",
    "euclidian = []\n",
    "distances = []\n",
    "\n",
    "#Fill distance list with Euclidean values#\n",
    "\n",
    "for x, y in points:\n",
    "    square = (x**2,y**2)\n",
    "    euclidian.append(sum(square))\n",
    "    \n",
    "minimal_distance = min(euclidian)\n",
    "\n",
    "#Map minimum distances to specific coordinates#\n",
    "\n",
    "for shots in euclidian:\n",
    "    if euclidian[shot] == minimal_distance:\n",
    "        distances.append(points[shot])\n",
    "        shot += 1\n",
    "        continue\n",
    "    else:\n",
    "        shot += 1\n",
    "\n",
    "print(\"The coordinates closest to the center are\", distances)"
   ]
  },
  {
   "cell_type": "markdown",
   "metadata": {},
   "source": [
    "#### 4. If the archery target has a radius of 9, calculate the number of arrows that won't hit the target. \n",
    "**Hint**: Use the function created in step 3. "
   ]
  },
  {
   "cell_type": "code",
   "execution_count": 110,
   "metadata": {},
   "outputs": [
    {
     "name": "stdout",
     "output_type": "stream",
     "text": [
      "4 arrows hit the the target.\n"
     ]
    }
   ],
   "source": [
    "shot = 0\n",
    "\n",
    "for shots in euclidian:\n",
    "    if euclidian[shot] > 9:\n",
    "        euclidian.remove(euclidian[shot])\n",
    "        shot += 1\n",
    "    else:\n",
    "        shot += 1\n",
    "        \n",
    "print(len(euclidian),\"arrows hit the the target.\")"
   ]
  }
 ],
 "metadata": {
  "kernelspec": {
   "display_name": "Python 3",
   "language": "python",
   "name": "python3"
  },
  "language_info": {
   "codemirror_mode": {
    "name": "ipython",
    "version": 3
   },
   "file_extension": ".py",
   "mimetype": "text/x-python",
   "name": "python",
   "nbconvert_exporter": "python",
   "pygments_lexer": "ipython3",
   "version": "3.9.5"
  }
 },
 "nbformat": 4,
 "nbformat_minor": 2
}
